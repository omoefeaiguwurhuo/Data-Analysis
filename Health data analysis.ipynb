{
 "cells": [
  {
   "cell_type": "markdown",
   "id": "fe3a9bae-9c94-4da2-96a3-2dbc324e4be7",
   "metadata": {},
   "source": [
    "##### step 1 : Import all Python libraries needed for the project"
   ]
  },
  {
   "cell_type": "code",
   "execution_count": 1,
   "id": "00b11b11-24d3-4e74-b57d-6ac4b069ac75",
   "metadata": {},
   "outputs": [],
   "source": [
    "# Data manipulation and analysis\n",
    "import numpy as np\n",
    "import pandas as pd\n",
    "# Visualization\n",
    "import matplotlib.pyplot as plt\n",
    "import seaborn as sns\n"
   ]
  },
  {
   "cell_type": "markdown",
   "id": "2d8b33a7-9244-4208-92c1-77f10c8ca18e",
   "metadata": {},
   "source": [
    "##### step 2 import the dataset or do a data ingestion and save it to a variable "
   ]
  },
  {
   "cell_type": "code",
   "execution_count": 2,
   "id": "b5ffdc90-5c70-41db-a620-a6d4c55d6841",
   "metadata": {},
   "outputs": [],
   "source": [
    "health_data = pd.read_csv(\"D:/health_dataset/health.csv\")"
   ]
  },
  {
   "cell_type": "code",
   "execution_count": 3,
   "id": "2a47165d-0b03-45b4-8b70-0a9f30ba2c66",
   "metadata": {},
   "outputs": [
    {
     "data": {
      "text/html": [
       "<div>\n",
       "<style scoped>\n",
       "    .dataframe tbody tr th:only-of-type {\n",
       "        vertical-align: middle;\n",
       "    }\n",
       "\n",
       "    .dataframe tbody tr th {\n",
       "        vertical-align: top;\n",
       "    }\n",
       "\n",
       "    .dataframe thead th {\n",
       "        text-align: right;\n",
       "    }\n",
       "</style>\n",
       "<table border=\"1\" class=\"dataframe\">\n",
       "  <thead>\n",
       "    <tr style=\"text-align: right;\">\n",
       "      <th></th>\n",
       "      <th>Age</th>\n",
       "      <th>Gender</th>\n",
       "      <th>Weight</th>\n",
       "      <th>Height</th>\n",
       "      <th>Cholesterol</th>\n",
       "      <th>HeartRate_Health</th>\n",
       "      <th>Glucose_Health</th>\n",
       "      <th>Exercise</th>\n",
       "      <th>Sleep</th>\n",
       "      <th>Calories_Health</th>\n",
       "      <th>Steps_Health</th>\n",
       "    </tr>\n",
       "  </thead>\n",
       "  <tbody>\n",
       "    <tr>\n",
       "      <th>0</th>\n",
       "      <td>35</td>\n",
       "      <td>Male</td>\n",
       "      <td>54.979924</td>\n",
       "      <td>152.522183</td>\n",
       "      <td>High</td>\n",
       "      <td>87.0</td>\n",
       "      <td>92</td>\n",
       "      <td>4.415796</td>\n",
       "      <td>6.893152</td>\n",
       "      <td>2948</td>\n",
       "      <td>8138</td>\n",
       "    </tr>\n",
       "    <tr>\n",
       "      <th>1</th>\n",
       "      <td>21</td>\n",
       "      <td>Female</td>\n",
       "      <td>62.112262</td>\n",
       "      <td>183.781264</td>\n",
       "      <td>Normal</td>\n",
       "      <td>74.0</td>\n",
       "      <td>84</td>\n",
       "      <td>1.352048</td>\n",
       "      <td>8.091619</td>\n",
       "      <td>2203</td>\n",
       "      <td>11819</td>\n",
       "    </tr>\n",
       "    <tr>\n",
       "      <th>2</th>\n",
       "      <td>22</td>\n",
       "      <td>Female</td>\n",
       "      <td>NaN</td>\n",
       "      <td>183.976896</td>\n",
       "      <td>High</td>\n",
       "      <td>65.0</td>\n",
       "      <td>100</td>\n",
       "      <td>2.515289</td>\n",
       "      <td>7.464713</td>\n",
       "      <td>2556</td>\n",
       "      <td>10904</td>\n",
       "    </tr>\n",
       "    <tr>\n",
       "      <th>3</th>\n",
       "      <td>26</td>\n",
       "      <td>Male</td>\n",
       "      <td>75.704550</td>\n",
       "      <td>155.043719</td>\n",
       "      <td>Low</td>\n",
       "      <td>67.0</td>\n",
       "      <td>83</td>\n",
       "      <td>3.104907</td>\n",
       "      <td>6.134907</td>\n",
       "      <td>2878</td>\n",
       "      <td>7072</td>\n",
       "    </tr>\n",
       "    <tr>\n",
       "      <th>4</th>\n",
       "      <td>28</td>\n",
       "      <td>Male</td>\n",
       "      <td>68.946153</td>\n",
       "      <td>153.952614</td>\n",
       "      <td>Low</td>\n",
       "      <td>69.0</td>\n",
       "      <td>118</td>\n",
       "      <td>3.679813</td>\n",
       "      <td>6.934503</td>\n",
       "      <td>2927</td>\n",
       "      <td>6629</td>\n",
       "    </tr>\n",
       "    <tr>\n",
       "      <th>5</th>\n",
       "      <td>22</td>\n",
       "      <td>Male</td>\n",
       "      <td>68.740319</td>\n",
       "      <td>162.748154</td>\n",
       "      <td>High</td>\n",
       "      <td>92.0</td>\n",
       "      <td>93</td>\n",
       "      <td>4.788879</td>\n",
       "      <td>7.198364</td>\n",
       "      <td>2722</td>\n",
       "      <td>9266</td>\n",
       "    </tr>\n",
       "    <tr>\n",
       "      <th>6</th>\n",
       "      <td>21</td>\n",
       "      <td>Female</td>\n",
       "      <td>57.166993</td>\n",
       "      <td>185.029681</td>\n",
       "      <td>Low</td>\n",
       "      <td>84.0</td>\n",
       "      <td>86</td>\n",
       "      <td>1.842906</td>\n",
       "      <td>6.754712</td>\n",
       "      <td>2258</td>\n",
       "      <td>5517</td>\n",
       "    </tr>\n",
       "    <tr>\n",
       "      <th>7</th>\n",
       "      <td>28</td>\n",
       "      <td>Male</td>\n",
       "      <td>68.282364</td>\n",
       "      <td>183.620710</td>\n",
       "      <td>High</td>\n",
       "      <td>74.0</td>\n",
       "      <td>80</td>\n",
       "      <td>4.050803</td>\n",
       "      <td>6.573486</td>\n",
       "      <td>1637</td>\n",
       "      <td>9609</td>\n",
       "    </tr>\n",
       "    <tr>\n",
       "      <th>8</th>\n",
       "      <td>33</td>\n",
       "      <td>Female</td>\n",
       "      <td>72.844097</td>\n",
       "      <td>152.652195</td>\n",
       "      <td>Normal</td>\n",
       "      <td>NaN</td>\n",
       "      <td>82</td>\n",
       "      <td>3.291070</td>\n",
       "      <td>8.822001</td>\n",
       "      <td>2573</td>\n",
       "      <td>11188</td>\n",
       "    </tr>\n",
       "    <tr>\n",
       "      <th>9</th>\n",
       "      <td>39</td>\n",
       "      <td>Female</td>\n",
       "      <td>80.298708</td>\n",
       "      <td>182.370625</td>\n",
       "      <td>High</td>\n",
       "      <td>85.0</td>\n",
       "      <td>85</td>\n",
       "      <td>1.467954</td>\n",
       "      <td>7.639541</td>\n",
       "      <td>2330</td>\n",
       "      <td>9914</td>\n",
       "    </tr>\n",
       "    <tr>\n",
       "      <th>10</th>\n",
       "      <td>32</td>\n",
       "      <td>Male</td>\n",
       "      <td>84.585272</td>\n",
       "      <td>180.178171</td>\n",
       "      <td>Normal</td>\n",
       "      <td>78.0</td>\n",
       "      <td>116</td>\n",
       "      <td>3.507473</td>\n",
       "      <td>8.242295</td>\n",
       "      <td>1766</td>\n",
       "      <td>9500</td>\n",
       "    </tr>\n",
       "    <tr>\n",
       "      <th>11</th>\n",
       "      <td>38</td>\n",
       "      <td>Male</td>\n",
       "      <td>84.956939</td>\n",
       "      <td>174.759768</td>\n",
       "      <td>Low</td>\n",
       "      <td>73.0</td>\n",
       "      <td>103</td>\n",
       "      <td>1.773427</td>\n",
       "      <td>7.342818</td>\n",
       "      <td>1563</td>\n",
       "      <td>7532</td>\n",
       "    </tr>\n",
       "    <tr>\n",
       "      <th>12</th>\n",
       "      <td>28</td>\n",
       "      <td>Female</td>\n",
       "      <td>73.866228</td>\n",
       "      <td>157.963696</td>\n",
       "      <td>Normal</td>\n",
       "      <td>70.0</td>\n",
       "      <td>114</td>\n",
       "      <td>NaN</td>\n",
       "      <td>6.263462</td>\n",
       "      <td>1827</td>\n",
       "      <td>7320</td>\n",
       "    </tr>\n",
       "    <tr>\n",
       "      <th>13</th>\n",
       "      <td>22</td>\n",
       "      <td>Male</td>\n",
       "      <td>66.778029</td>\n",
       "      <td>178.604860</td>\n",
       "      <td>Normal</td>\n",
       "      <td>92.0</td>\n",
       "      <td>84</td>\n",
       "      <td>1.019994</td>\n",
       "      <td>7.593991</td>\n",
       "      <td>1595</td>\n",
       "      <td>6262</td>\n",
       "    </tr>\n",
       "    <tr>\n",
       "      <th>14</th>\n",
       "      <td>35</td>\n",
       "      <td>Male</td>\n",
       "      <td>81.869354</td>\n",
       "      <td>176.095035</td>\n",
       "      <td>Normal</td>\n",
       "      <td>65.0</td>\n",
       "      <td>97</td>\n",
       "      <td>4.079958</td>\n",
       "      <td>7.125352</td>\n",
       "      <td>2427</td>\n",
       "      <td>9291</td>\n",
       "    </tr>\n",
       "    <tr>\n",
       "      <th>15</th>\n",
       "      <td>38</td>\n",
       "      <td>Male</td>\n",
       "      <td>62.594733</td>\n",
       "      <td>180.040287</td>\n",
       "      <td>Low</td>\n",
       "      <td>77.0</td>\n",
       "      <td>103</td>\n",
       "      <td>3.028221</td>\n",
       "      <td>NaN</td>\n",
       "      <td>2353</td>\n",
       "      <td>7265</td>\n",
       "    </tr>\n",
       "    <tr>\n",
       "      <th>16</th>\n",
       "      <td>28</td>\n",
       "      <td>Female</td>\n",
       "      <td>59.777798</td>\n",
       "      <td>150.266229</td>\n",
       "      <td>High</td>\n",
       "      <td>82.0</td>\n",
       "      <td>111</td>\n",
       "      <td>1.871286</td>\n",
       "      <td>8.233139</td>\n",
       "      <td>2568</td>\n",
       "      <td>10132</td>\n",
       "    </tr>\n",
       "    <tr>\n",
       "      <th>17</th>\n",
       "      <td>28</td>\n",
       "      <td>Male</td>\n",
       "      <td>70.650566</td>\n",
       "      <td>158.487618</td>\n",
       "      <td>Low</td>\n",
       "      <td>82.0</td>\n",
       "      <td>118</td>\n",
       "      <td>4.474394</td>\n",
       "      <td>6.911192</td>\n",
       "      <td>2202</td>\n",
       "      <td>5657</td>\n",
       "    </tr>\n",
       "    <tr>\n",
       "      <th>18</th>\n",
       "      <td>25</td>\n",
       "      <td>Male</td>\n",
       "      <td>58.537009</td>\n",
       "      <td>185.673889</td>\n",
       "      <td>Normal</td>\n",
       "      <td>87.0</td>\n",
       "      <td>101</td>\n",
       "      <td>3.758114</td>\n",
       "      <td>6.371009</td>\n",
       "      <td>1617</td>\n",
       "      <td>8388</td>\n",
       "    </tr>\n",
       "    <tr>\n",
       "      <th>19</th>\n",
       "      <td>39</td>\n",
       "      <td>Male</td>\n",
       "      <td>66.918122</td>\n",
       "      <td>184.676400</td>\n",
       "      <td>Low</td>\n",
       "      <td>78.0</td>\n",
       "      <td>99</td>\n",
       "      <td>1.692903</td>\n",
       "      <td>8.373818</td>\n",
       "      <td>1975</td>\n",
       "      <td>6269</td>\n",
       "    </tr>\n",
       "    <tr>\n",
       "      <th>20</th>\n",
       "      <td>35</td>\n",
       "      <td>Male</td>\n",
       "      <td>74.607218</td>\n",
       "      <td>174.880331</td>\n",
       "      <td>Normal</td>\n",
       "      <td>76.0</td>\n",
       "      <td>89</td>\n",
       "      <td>2.818780</td>\n",
       "      <td>6.096618</td>\n",
       "      <td>2030</td>\n",
       "      <td>9647</td>\n",
       "    </tr>\n",
       "    <tr>\n",
       "      <th>21</th>\n",
       "      <td>22</td>\n",
       "      <td>Female</td>\n",
       "      <td>84.607877</td>\n",
       "      <td>180.520126</td>\n",
       "      <td>High</td>\n",
       "      <td>97.0</td>\n",
       "      <td>80</td>\n",
       "      <td>2.876509</td>\n",
       "      <td>8.028312</td>\n",
       "      <td>2378</td>\n",
       "      <td>11413</td>\n",
       "    </tr>\n",
       "    <tr>\n",
       "      <th>22</th>\n",
       "      <td>26</td>\n",
       "      <td>Female</td>\n",
       "      <td>72.383271</td>\n",
       "      <td>171.184332</td>\n",
       "      <td>High</td>\n",
       "      <td>66.0</td>\n",
       "      <td>96</td>\n",
       "      <td>3.067473</td>\n",
       "      <td>7.079891</td>\n",
       "      <td>2279</td>\n",
       "      <td>7713</td>\n",
       "    </tr>\n",
       "    <tr>\n",
       "      <th>23</th>\n",
       "      <td>25</td>\n",
       "      <td>Male</td>\n",
       "      <td>76.488545</td>\n",
       "      <td>172.021582</td>\n",
       "      <td>Low</td>\n",
       "      <td>82.0</td>\n",
       "      <td>83</td>\n",
       "      <td>3.014631</td>\n",
       "      <td>7.720515</td>\n",
       "      <td>2847</td>\n",
       "      <td>11757</td>\n",
       "    </tr>\n",
       "    <tr>\n",
       "      <th>24</th>\n",
       "      <td>32</td>\n",
       "      <td>Female</td>\n",
       "      <td>89.124316</td>\n",
       "      <td>175.113300</td>\n",
       "      <td>High</td>\n",
       "      <td>69.0</td>\n",
       "      <td>99</td>\n",
       "      <td>2.377878</td>\n",
       "      <td>7.305394</td>\n",
       "      <td>2331</td>\n",
       "      <td>9437</td>\n",
       "    </tr>\n",
       "    <tr>\n",
       "      <th>25</th>\n",
       "      <td>23</td>\n",
       "      <td>Female</td>\n",
       "      <td>80.974833</td>\n",
       "      <td>160.520673</td>\n",
       "      <td>Low</td>\n",
       "      <td>94.0</td>\n",
       "      <td>116</td>\n",
       "      <td>2.632212</td>\n",
       "      <td>8.476110</td>\n",
       "      <td>2552</td>\n",
       "      <td>8644</td>\n",
       "    </tr>\n",
       "    <tr>\n",
       "      <th>26</th>\n",
       "      <td>25</td>\n",
       "      <td>Female</td>\n",
       "      <td>68.148509</td>\n",
       "      <td>178.248776</td>\n",
       "      <td>Low</td>\n",
       "      <td>73.0</td>\n",
       "      <td>108</td>\n",
       "      <td>3.529390</td>\n",
       "      <td>6.478862</td>\n",
       "      <td>2709</td>\n",
       "      <td>11643</td>\n",
       "    </tr>\n",
       "    <tr>\n",
       "      <th>27</th>\n",
       "      <td>39</td>\n",
       "      <td>Male</td>\n",
       "      <td>52.562076</td>\n",
       "      <td>182.792237</td>\n",
       "      <td>Normal</td>\n",
       "      <td>71.0</td>\n",
       "      <td>87</td>\n",
       "      <td>4.276888</td>\n",
       "      <td>8.552229</td>\n",
       "      <td>1663</td>\n",
       "      <td>10416</td>\n",
       "    </tr>\n",
       "    <tr>\n",
       "      <th>28</th>\n",
       "      <td>35</td>\n",
       "      <td>Male</td>\n",
       "      <td>83.666231</td>\n",
       "      <td>157.158522</td>\n",
       "      <td>High</td>\n",
       "      <td>80.0</td>\n",
       "      <td>83</td>\n",
       "      <td>4.455735</td>\n",
       "      <td>8.488932</td>\n",
       "      <td>2453</td>\n",
       "      <td>9263</td>\n",
       "    </tr>\n",
       "    <tr>\n",
       "      <th>29</th>\n",
       "      <td>32</td>\n",
       "      <td>Male</td>\n",
       "      <td>66.106958</td>\n",
       "      <td>172.667870</td>\n",
       "      <td>Low</td>\n",
       "      <td>69.0</td>\n",
       "      <td>88</td>\n",
       "      <td>2.156907</td>\n",
       "      <td>8.758905</td>\n",
       "      <td>1917</td>\n",
       "      <td>8502</td>\n",
       "    </tr>\n",
       "    <tr>\n",
       "      <th>30</th>\n",
       "      <td>35</td>\n",
       "      <td>Male</td>\n",
       "      <td>54.979924</td>\n",
       "      <td>152.522183</td>\n",
       "      <td>High</td>\n",
       "      <td>87.0</td>\n",
       "      <td>92</td>\n",
       "      <td>4.415796</td>\n",
       "      <td>6.893152</td>\n",
       "      <td>2948</td>\n",
       "      <td>8138</td>\n",
       "    </tr>\n",
       "    <tr>\n",
       "      <th>31</th>\n",
       "      <td>21</td>\n",
       "      <td>Female</td>\n",
       "      <td>62.112262</td>\n",
       "      <td>183.781264</td>\n",
       "      <td>Normal</td>\n",
       "      <td>74.0</td>\n",
       "      <td>84</td>\n",
       "      <td>1.352048</td>\n",
       "      <td>8.091619</td>\n",
       "      <td>2203</td>\n",
       "      <td>11819</td>\n",
       "    </tr>\n",
       "  </tbody>\n",
       "</table>\n",
       "</div>"
      ],
      "text/plain": [
       "    Age  Gender     Weight      Height Cholesterol  HeartRate_Health  \\\n",
       "0    35    Male  54.979924  152.522183        High              87.0   \n",
       "1    21  Female  62.112262  183.781264      Normal              74.0   \n",
       "2    22  Female        NaN  183.976896        High              65.0   \n",
       "3    26    Male  75.704550  155.043719         Low              67.0   \n",
       "4    28    Male  68.946153  153.952614         Low              69.0   \n",
       "5    22    Male  68.740319  162.748154        High              92.0   \n",
       "6    21  Female  57.166993  185.029681         Low              84.0   \n",
       "7    28    Male  68.282364  183.620710        High              74.0   \n",
       "8    33  Female  72.844097  152.652195      Normal               NaN   \n",
       "9    39  Female  80.298708  182.370625        High              85.0   \n",
       "10   32    Male  84.585272  180.178171      Normal              78.0   \n",
       "11   38    Male  84.956939  174.759768         Low              73.0   \n",
       "12   28  Female  73.866228  157.963696      Normal              70.0   \n",
       "13   22    Male  66.778029  178.604860      Normal              92.0   \n",
       "14   35    Male  81.869354  176.095035      Normal              65.0   \n",
       "15   38    Male  62.594733  180.040287         Low              77.0   \n",
       "16   28  Female  59.777798  150.266229        High              82.0   \n",
       "17   28    Male  70.650566  158.487618         Low              82.0   \n",
       "18   25    Male  58.537009  185.673889      Normal              87.0   \n",
       "19   39    Male  66.918122  184.676400         Low              78.0   \n",
       "20   35    Male  74.607218  174.880331      Normal              76.0   \n",
       "21   22  Female  84.607877  180.520126        High              97.0   \n",
       "22   26  Female  72.383271  171.184332        High              66.0   \n",
       "23   25    Male  76.488545  172.021582         Low              82.0   \n",
       "24   32  Female  89.124316  175.113300        High              69.0   \n",
       "25   23  Female  80.974833  160.520673         Low              94.0   \n",
       "26   25  Female  68.148509  178.248776         Low              73.0   \n",
       "27   39    Male  52.562076  182.792237      Normal              71.0   \n",
       "28   35    Male  83.666231  157.158522        High              80.0   \n",
       "29   32    Male  66.106958  172.667870         Low              69.0   \n",
       "30   35    Male  54.979924  152.522183        High              87.0   \n",
       "31   21  Female  62.112262  183.781264      Normal              74.0   \n",
       "\n",
       "    Glucose_Health  Exercise     Sleep  Calories_Health  Steps_Health  \n",
       "0               92  4.415796  6.893152             2948          8138  \n",
       "1               84  1.352048  8.091619             2203         11819  \n",
       "2              100  2.515289  7.464713             2556         10904  \n",
       "3               83  3.104907  6.134907             2878          7072  \n",
       "4              118  3.679813  6.934503             2927          6629  \n",
       "5               93  4.788879  7.198364             2722          9266  \n",
       "6               86  1.842906  6.754712             2258          5517  \n",
       "7               80  4.050803  6.573486             1637          9609  \n",
       "8               82  3.291070  8.822001             2573         11188  \n",
       "9               85  1.467954  7.639541             2330          9914  \n",
       "10             116  3.507473  8.242295             1766          9500  \n",
       "11             103  1.773427  7.342818             1563          7532  \n",
       "12             114       NaN  6.263462             1827          7320  \n",
       "13              84  1.019994  7.593991             1595          6262  \n",
       "14              97  4.079958  7.125352             2427          9291  \n",
       "15             103  3.028221       NaN             2353          7265  \n",
       "16             111  1.871286  8.233139             2568         10132  \n",
       "17             118  4.474394  6.911192             2202          5657  \n",
       "18             101  3.758114  6.371009             1617          8388  \n",
       "19              99  1.692903  8.373818             1975          6269  \n",
       "20              89  2.818780  6.096618             2030          9647  \n",
       "21              80  2.876509  8.028312             2378         11413  \n",
       "22              96  3.067473  7.079891             2279          7713  \n",
       "23              83  3.014631  7.720515             2847         11757  \n",
       "24              99  2.377878  7.305394             2331          9437  \n",
       "25             116  2.632212  8.476110             2552          8644  \n",
       "26             108  3.529390  6.478862             2709         11643  \n",
       "27              87  4.276888  8.552229             1663         10416  \n",
       "28              83  4.455735  8.488932             2453          9263  \n",
       "29              88  2.156907  8.758905             1917          8502  \n",
       "30              92  4.415796  6.893152             2948          8138  \n",
       "31              84  1.352048  8.091619             2203         11819  "
      ]
     },
     "execution_count": 3,
     "metadata": {},
     "output_type": "execute_result"
    }
   ],
   "source": [
    "health_data"
   ]
  },
  {
   "cell_type": "markdown",
   "id": "779e3fe7-d697-4b49-b956-dcc41c52cab3",
   "metadata": {},
   "source": [
    "##### step 3 data cleaning "
   ]
  },
  {
   "cell_type": "code",
   "execution_count": 4,
   "id": "2904533e-38d5-4cf9-9472-3f0e30669fff",
   "metadata": {},
   "outputs": [],
   "source": [
    "####### Find the missing values "
   ]
  },
  {
   "cell_type": "code",
   "execution_count": 5,
   "id": "b1f2845a-e769-4e8d-a3fe-f684b1f4cb29",
   "metadata": {},
   "outputs": [],
   "source": [
    "total_missing_val_col = health_data.isnull().sum()"
   ]
  },
  {
   "cell_type": "code",
   "execution_count": 6,
   "id": "4b766902-cc00-4136-a23d-80a1bb18b787",
   "metadata": {},
   "outputs": [
    {
     "data": {
      "text/plain": [
       "Age                 0\n",
       "Gender              0\n",
       "Weight              1\n",
       "Height              0\n",
       "Cholesterol         0\n",
       "HeartRate_Health    1\n",
       "Glucose_Health      0\n",
       "Exercise            1\n",
       "Sleep               1\n",
       "Calories_Health     0\n",
       "Steps_Health        0\n",
       "dtype: int64"
      ]
     },
     "execution_count": 6,
     "metadata": {},
     "output_type": "execute_result"
    }
   ],
   "source": [
    "total_missing_val_col"
   ]
  },
  {
   "cell_type": "code",
   "execution_count": 7,
   "id": "49425b10-081b-41a8-a24d-d2fcae9ec1b1",
   "metadata": {},
   "outputs": [],
   "source": [
    "total_missing_dataframe = health_data.isnull().sum().sum()"
   ]
  },
  {
   "cell_type": "code",
   "execution_count": 8,
   "id": "ec254721-8a53-426c-a327-1e22c30a6f71",
   "metadata": {},
   "outputs": [
    {
     "ename": "NameError",
     "evalue": "name 'total_missing' is not defined",
     "output_type": "error",
     "traceback": [
      "\u001b[1;31m---------------------------------------------------------------------------\u001b[0m",
      "\u001b[1;31mNameError\u001b[0m                                 Traceback (most recent call last)",
      "Cell \u001b[1;32mIn[8], line 1\u001b[0m\n\u001b[1;32m----> 1\u001b[0m \u001b[43mtotal_missing\u001b[49m \n",
      "\u001b[1;31mNameError\u001b[0m: name 'total_missing' is not defined"
     ]
    }
   ],
   "source": [
    "total_missing "
   ]
  },
  {
   "cell_type": "code",
   "execution_count": null,
   "id": "9465ff78-68c3-490e-92db-6a22e15dad8c",
   "metadata": {},
   "outputs": [],
   "source": [
    "# understanding If else statements in python "
   ]
  },
  {
   "cell_type": "code",
   "execution_count": null,
   "id": "f00456ef-6ebd-4109-ab24-23e42ea10f7a",
   "metadata": {},
   "outputs": [],
   "source": [
    "# better way to approach this by understanding this basic code \n",
    "# if-else statement\n",
    "x = 10\n",
    "if x > 0:\n",
    "    print(\"Positive\")\n",
    "elif x < 0:\n",
    "    print(\"Negative\")\n",
    "else:\n",
    "    print(\"Zero\")"
   ]
  },
  {
   "cell_type": "code",
   "execution_count": null,
   "id": "944093e7-64b2-4d07-9c66-d12aca8ab434",
   "metadata": {},
   "outputs": [],
   "source": [
    "x = -1\n",
    "if x > 0:\n",
    "    print(\"Positive\")\n",
    "elif x < 0:\n",
    "    print(\"Negative\")\n",
    "else:\n",
    "    print(\"Zero\")"
   ]
  },
  {
   "cell_type": "code",
   "execution_count": null,
   "id": "284c817f-333f-4c55-a5b3-94319f70d9c4",
   "metadata": {},
   "outputs": [],
   "source": [
    "x = 0\n",
    "if x > 0:\n",
    "    print(\"Positive\")\n",
    "elif x < 0:\n",
    "    print(\"Negative\")\n",
    "else:\n",
    "    print(\"Zero\")"
   ]
  },
  {
   "cell_type": "code",
   "execution_count": null,
   "id": "c3df2fb3-ea98-4f1f-af48-37e997bd6ceb",
   "metadata": {},
   "outputs": [],
   "source": [
    "# Checking if missing values are present\n",
    "if health_data.isnull().values.any():\n",
    "    print(\"Missing values are present in the dataset.\")\n",
    "else:\n",
    "    print(\"No missing values found in the dataset.\")"
   ]
  },
  {
   "cell_type": "code",
   "execution_count": null,
   "id": "f114f1a1-58c5-4adb-82c3-a92f232760fa",
   "metadata": {},
   "outputs": [],
   "source": [
    "# learn for loop\n",
    "x = [1,2,4,9,]\n",
    "for num in x:\n",
    "    print(num)"
   ]
  },
  {
   "cell_type": "markdown",
   "id": "49f43a8c-e5d1-4600-993a-70a8524f4148",
   "metadata": {},
   "source": [
    "##### combining for loop and if else statement to find missing values "
   ]
  },
  {
   "cell_type": "code",
   "execution_count": null,
   "id": "3560f32b-3ab4-42a2-ae95-e49aa4f239c0",
   "metadata": {},
   "outputs": [],
   "source": [
    "# Initialize counters for missing values\n",
    "total_missing = 0\n",
    "\n",
    "# Check for missing values using loops\n",
    "for column in health_data.columns:\n",
    "    col_missing = health_data[column].isnull().sum()\n",
    "    \n",
    "    if col_missing > 0:\n",
    "        print(f\"Column '{column}' has {col_missing} missing value(s).\")\n",
    "        total_missing += col_missing\n",
    "\n",
    "# Output total count of missing values\n",
    "if total_missing > 0:\n",
    "    print(f\"\\nTotal number of missing values: {total_missing}\")\n",
    "else:\n",
    "    print(\"\\nNo missing values found.\")"
   ]
  },
  {
   "cell_type": "markdown",
   "id": "f780037a-1fb5-49a7-a1a9-8d43353144a8",
   "metadata": {},
   "source": [
    "### A better way to find and remove missing values is to write a function to do the task \n",
    "##### remmeber a function is created to make a task easier by writing the def, let get an example "
   ]
  },
  {
   "cell_type": "markdown",
   "id": "1acf2e76-cc11-46c2-ab3e-074e2fb72ef0",
   "metadata": {},
   "source": [
    "##### remmeber a function is created to make a task easier by writing the def, let get an example "
   ]
  },
  {
   "cell_type": "code",
   "execution_count": null,
   "id": "a43e8c28-d080-47e9-b504-f17cacfd0928",
   "metadata": {},
   "outputs": [],
   "source": [
    "def add_three_numbers(a, b, c):\n",
    "    result = a + b + c\n",
    "    return result"
   ]
  },
  {
   "cell_type": "code",
   "execution_count": null,
   "id": "ce96dcce-afdf-4b13-be77-6df484e5e9f6",
   "metadata": {},
   "outputs": [],
   "source": [
    "add_three_numbers(1,2,4)"
   ]
  },
  {
   "cell_type": "code",
   "execution_count": null,
   "id": "3935f1e0-75db-4398-97ab-f6dcbb291397",
   "metadata": {},
   "outputs": [],
   "source": [
    "# Example usage:\n",
    "x = 5\n",
    "y = 8\n",
    "z = 10\n",
    "sum_result = add_three_numbers(x,y,z)"
   ]
  },
  {
   "cell_type": "code",
   "execution_count": null,
   "id": "446d37b3-4257-4f4a-ab29-923e8591c3fd",
   "metadata": {},
   "outputs": [],
   "source": [
    "sum_result"
   ]
  },
  {
   "cell_type": "code",
   "execution_count": null,
   "id": "8fdad681-2414-46fc-9487-cabff64544ab",
   "metadata": {},
   "outputs": [],
   "source": [
    "def process_missing_values(dataset):\n",
    "    # Calculate total number of missing values\n",
    "    total_missing = dataset.isnull().sum().sum()\n",
    "    print(f\"Total number of missing values in the dataset: {total_missing}\")\n",
    "\n",
    "    # Drop rows containing missing values\n",
    "    dataset_no_missing = dataset.dropna()\n",
    "    \n",
    "    return dataset_no_missing"
   ]
  },
  {
   "cell_type": "code",
   "execution_count": null,
   "id": "d7a511e2-35d6-429c-ba85-5678ad6ef31c",
   "metadata": {},
   "outputs": [],
   "source": [
    "new_healthdata=process_missing_values(health_data)"
   ]
  },
  {
   "cell_type": "code",
   "execution_count": null,
   "id": "697960f0-f40d-4bf0-98c8-8ef7d14cd791",
   "metadata": {},
   "outputs": [],
   "source": [
    "new_healthdata"
   ]
  },
  {
   "cell_type": "code",
   "execution_count": null,
   "id": "ddb54717-7939-4870-a408-64b2a0c4f6ca",
   "metadata": {},
   "outputs": [],
   "source": [
    "new_healthdata.isnull().sum().sum()"
   ]
  },
  {
   "cell_type": "code",
   "execution_count": null,
   "id": "9acd6562-4733-446d-9a44-27b958bab83a",
   "metadata": {},
   "outputs": [],
   "source": [
    "new_healthdata.shape"
   ]
  },
  {
   "cell_type": "code",
   "execution_count": null,
   "id": "742164fb-3f97-4fdb-af0c-6e4200dba138",
   "metadata": {},
   "outputs": [],
   "source": [
    "new_data=health_data.dropna()"
   ]
  },
  {
   "cell_type": "code",
   "execution_count": null,
   "id": "80b58afa-e30f-45b8-b267-b2b2b9fb64ca",
   "metadata": {},
   "outputs": [],
   "source": [
    "#new_data"
   ]
  },
  {
   "cell_type": "code",
   "execution_count": null,
   "id": "2d57b086-2b20-4906-8eaa-5c5531230d1b",
   "metadata": {},
   "outputs": [],
   "source": [
    "# Finding duplicates\n",
    "duplicates = new_healthdata[new_healthdata.duplicated()]\n",
    "\n",
    "# Displaying duplicates\n",
    "print(\"\\nDuplicate rows:\")\n",
    "print(duplicates)\n",
    "\n",
    "# Removing duplicates\n",
    "df_clean_healthdata = new_healthdata.drop_duplicates()\n"
   ]
  },
  {
   "cell_type": "code",
   "execution_count": null,
   "id": "4620a7c7-790f-42c3-9042-a1882d0dc614",
   "metadata": {},
   "outputs": [],
   "source": [
    "df_clean_healthdata"
   ]
  },
  {
   "cell_type": "markdown",
   "id": "2dfdb266-f4ff-4935-be0a-a281b56aedc8",
   "metadata": {},
   "source": [
    "##### convert each columns to two decimal points "
   ]
  },
  {
   "cell_type": "code",
   "execution_count": null,
   "id": "1ef1515d-9b74-44e0-a1c5-1463dd2ee0e1",
   "metadata": {},
   "outputs": [],
   "source": [
    "df_clean_healthdata=df_clean_healthdata.round(2)"
   ]
  },
  {
   "cell_type": "code",
   "execution_count": null,
   "id": "f9c3b62b-f2c0-4509-b957-94dcefdb1986",
   "metadata": {},
   "outputs": [],
   "source": [
    "df_clean_healthdata"
   ]
  },
  {
   "cell_type": "markdown",
   "id": "dbfb5ebc-e2f4-40d6-8126-defade53d8d4",
   "metadata": {},
   "source": [
    "##### Step 4 Data analysis "
   ]
  },
  {
   "cell_type": "code",
   "execution_count": null,
   "id": "0a8f40a2-5e1c-46a5-a238-c1cd77e5bd97",
   "metadata": {},
   "outputs": [],
   "source": [
    "df_clean_healthdata.describe()"
   ]
  },
  {
   "cell_type": "code",
   "execution_count": null,
   "id": "cfafe043-3d36-4a41-94f6-6f746d4e62cb",
   "metadata": {},
   "outputs": [],
   "source": [
    "df_clean_healthdata[\"Age\"]"
   ]
  },
  {
   "cell_type": "code",
   "execution_count": null,
   "id": "3e040b0e-f8fc-487b-accd-474ecc8bebf5",
   "metadata": {},
   "outputs": [],
   "source": [
    "Gender_unique = df_clean_healthdata[\"Gender\"].unique()"
   ]
  },
  {
   "cell_type": "code",
   "execution_count": null,
   "id": "18ead576-10d9-4fbb-9394-a319082624a0",
   "metadata": {},
   "outputs": [],
   "source": [
    "Gender_unique "
   ]
  },
  {
   "cell_type": "code",
   "execution_count": null,
   "id": "d2603641-932d-4255-8c6a-b668399240ea",
   "metadata": {},
   "outputs": [],
   "source": [
    "Cholesterol_unique = df_clean_healthdata[\"Cholesterol\"].unique()"
   ]
  },
  {
   "cell_type": "code",
   "execution_count": null,
   "id": "9140f4cb-bccd-43b2-8605-f1b63c0c57a2",
   "metadata": {},
   "outputs": [],
   "source": [
    "Cholesterol_unique"
   ]
  },
  {
   "cell_type": "code",
   "execution_count": null,
   "id": "bb5c0e64-405f-4c52-82f5-cca33135b04e",
   "metadata": {},
   "outputs": [],
   "source": [
    "df=df_clean_healthdata"
   ]
  },
  {
   "cell_type": "code",
   "execution_count": null,
   "id": "f7530132-6483-45ea-8798-61ea6ff74d44",
   "metadata": {},
   "outputs": [],
   "source": [
    "# Define a mapping of Gender categories to numeric values\n",
    "Gender_mapping = {'Male': 1, 'Female': 2}\n",
    "\n",
    "# Map the categorical values to numeric values\n",
    "df['Gender'] = df['Gender'].map(Gender_mapping)\n"
   ]
  },
  {
   "cell_type": "code",
   "execution_count": null,
   "id": "3c6343b4-1ec6-4ac6-980a-4d7b5ae474e8",
   "metadata": {},
   "outputs": [],
   "source": [
    "df"
   ]
  },
  {
   "cell_type": "code",
   "execution_count": null,
   "id": "0ff93392-2178-41a9-a9f1-d6d7046d9e4e",
   "metadata": {},
   "outputs": [],
   "source": [
    "# Define a mapping of Gender categories to numeric values\n",
    "Cholesterol_mapping = {\"High\": 1, \"Normal\": 2,\"Low\":3}\n",
    "\n",
    "# Map the categorical values to numeric values\n",
    "df['Cholesterol'] = df['Cholesterol'].map(Cholesterol_mapping)"
   ]
  },
  {
   "cell_type": "code",
   "execution_count": null,
   "id": "2f2a7b45-3f4c-4bad-8eff-a59e8ea7d659",
   "metadata": {},
   "outputs": [],
   "source": [
    "df"
   ]
  },
  {
   "cell_type": "code",
   "execution_count": null,
   "id": "9ae6f99e-0be6-4993-8540-39fa44a4c0a3",
   "metadata": {},
   "outputs": [],
   "source": [
    "# Create a correlation matrix\n",
    "correlation_matrix =df.corr()\n"
   ]
  },
  {
   "cell_type": "code",
   "execution_count": null,
   "id": "366b1374-be04-4bc2-bf9a-ea114e0a0abb",
   "metadata": {},
   "outputs": [],
   "source": [
    "\n",
    "# Create a heatmap using seaborn\n",
    "plt.figure(figsize=(8, 6))\n",
    "sns.heatmap(correlation_matrix, annot=True, cmap='coolwarm', fmt='.2f', linewidths=0.5)\n",
    "\n",
    "# Adding a title\n",
    "plt.title('Correlation Plot')\n",
    "\n",
    "# Display the plot\n",
    "plt.show()"
   ]
  },
  {
   "cell_type": "code",
   "execution_count": null,
   "id": "a93c153e-0ac4-43e9-aad0-85145191eddb",
   "metadata": {},
   "outputs": [],
   "source": [
    "# Create a pair plot\n",
    "sns.pairplot(df_clean_healthdata)\n",
    "plt.show()"
   ]
  },
  {
   "cell_type": "code",
   "execution_count": null,
   "id": "2f9b8d2d-2275-4d12-9832-d4433ee01a77",
   "metadata": {},
   "outputs": [],
   "source": [
    "# Plot a histogram for 'Feature1'\n",
    "plt.figure(figsize=(7, 6))\n",
    "plt.hist(df['Glucose_Health'], bins=20, color='skyblue', edgecolor='black', alpha=0.7)\n",
    "\n",
    "# Add labels and a title\n",
    "plt.xlabel('Value')\n",
    "plt.ylabel('Frequency')\n",
    "plt.title('Histogram for Glucose_Health')\n",
    "\n",
    "# Show the plot\n",
    "plt.show()"
   ]
  },
  {
   "cell_type": "code",
   "execution_count": null,
   "id": "fa3e7ba4-ff0e-44b8-832e-3f9bb5dce048",
   "metadata": {},
   "outputs": [],
   "source": [
    "# Set a larger figure size\n",
    "plt.figure(figsize=(10, 6))\n",
    "\n",
    "# Create a bar chart using seaborn\n",
    "sns.barplot(x='Gender', y=\"Weight\", data=df_clean_healthdata, palette='viridis')\n",
    "\n",
    "# Add labels and a title\n",
    "plt.xlabel('Gender')\n",
    "plt.ylabel('Weight')\n",
    "plt.title('Bar Chart of Gender vs Weight')\n",
    "\n",
    "# Show the plot\n",
    "plt.show()"
   ]
  },
  {
   "cell_type": "code",
   "execution_count": null,
   "id": "e3f54c40-8b67-4c2f-833d-8f2ee4e2780a",
   "metadata": {},
   "outputs": [],
   "source": [
    "df_clean_healthdata"
   ]
  },
  {
   "cell_type": "code",
   "execution_count": null,
   "id": "5d795478-55df-478f-b52b-d79b9b89d643",
   "metadata": {},
   "outputs": [],
   "source": [
    "# Plot a histogram for 'Feature1'\n",
    "plt.figure(figsize=(7, 6))\n",
    "plt.hist(df['HeartRate_Health'], bins=20, color='skyblue', edgecolor='black', alpha=0.7)\n",
    "\n",
    "# Add labels and a title\n",
    "plt.xlabel('Value')\n",
    "plt.ylabel('Frequency')\n",
    "plt.title('Histogram for HeartRate_Health')\n",
    "\n",
    "# Show the plot\n",
    "plt.show()"
   ]
  },
  {
   "cell_type": "code",
   "execution_count": null,
   "id": "d0fb3635-c85b-4c8f-bcf6-362891807a52",
   "metadata": {},
   "outputs": [],
   "source": [
    "# Set a larger figure size\n",
    "plt.figure(figsize=(12, 8))\n",
    "\n",
    "# Create a bar chart using seaborn with color encoding for 'Category2'\n",
    "sns.barplot(x='Calories_Health', y='Height', hue='Cholesterol', data=df, palette='Set2')\n",
    "\n",
    "# Add labels and a title\n",
    "plt.xlabel('Calories_Health')\n",
    "plt.ylabel('Height')\n",
    "plt.title('Bar Chart of Calories_Health vs Height')\n",
    "\n",
    "# Show the plot\n",
    "plt.show()"
   ]
  },
  {
   "cell_type": "code",
   "execution_count": null,
   "id": "a4823279-1d6f-4da1-a9a0-2aa9ec9a8bc2",
   "metadata": {},
   "outputs": [],
   "source": [
    "# Set a larger figure size\n",
    "plt.figure(figsize=(12, 8))\n",
    "\n",
    "# Create a bar chart using seaborn with color encoding for 'Category2'\n",
    "sns.barplot(x='Calories_Health', y='Height', hue='Gender', data=df, palette='Set2')\n",
    "\n",
    "# Add labels and a title\n",
    "plt.xlabel('Calories_Health')\n",
    "plt.ylabel('Height')\n",
    "plt.title('Bar Chart of Calories_Health vs Height')\n",
    "\n",
    "# Show the plot\n",
    "plt.show()"
   ]
  },
  {
   "cell_type": "code",
   "execution_count": null,
   "id": "f40f9231-1670-4976-9315-4b78b741655b",
   "metadata": {},
   "outputs": [],
   "source": [
    "# Set a larger figure size\n",
    "plt.figure(figsize=(10, 8))\n",
    "\n",
    "# Create a scatter plot with points colored by 'ColorVar'\n",
    "sns.scatterplot(x='HeartRate_Health', y='Age', hue='Gender', data=df, palette='viridis', sizes=(50, 200))\n",
    "\n",
    "# Add labels and a title\n",
    "plt.xlabel('HeartRate_Health')\n",
    "plt.ylabel('Age')\n",
    "plt.title('Scatter Plot colored by Heart rate vs Age , colour by Gender')\n",
    "\n",
    "# Show the plot\n",
    "plt.show()"
   ]
  },
  {
   "cell_type": "code",
   "execution_count": null,
   "id": "b1efcb1c-702a-4628-aef7-eb6cc5ed89ef",
   "metadata": {},
   "outputs": [],
   "source": [
    "# Set a larger figure size\n",
    "plt.figure(figsize=(10, 8))\n",
    "\n",
    "# Create a scatter plot with points colored by 'ColorVar'\n",
    "sns.scatterplot(x='Calories_Health', y='Height', hue='Cholesterol', data=df, palette='viridis', sizes=(50, 200))\n",
    "\n",
    "# Add labels and a title\n",
    "plt.xlabel('Calories_Health')\n",
    "plt.ylabel('Height')\n",
    "plt.title('Scatter Plot colored by Calories_Health vs Height , colour by Cholesterol')\n",
    "\n",
    "# Show the plot\n",
    "plt.show()"
   ]
  },
  {
   "cell_type": "code",
   "execution_count": null,
   "id": "adb075a2-2c87-47fc-911d-30de124051d7",
   "metadata": {},
   "outputs": [],
   "source": [
    "# Set a larger figure size\n",
    "plt.figure(figsize=(7, 8))\n",
    "\n",
    "# Create a bar chart using seaborn with color encoding for 'Category2'\n",
    "sns.barplot(x='Cholesterol', y='Calories_Health', hue='Gender', data=df, palette='Set2')\n",
    "\n",
    "# Add labels and a title\n",
    "plt.xlabel('Calories_Health')\n",
    "plt.ylabel('Cholesterol')\n",
    "plt.title('Bar Chart of Calories_Health vs Cholesterol')\n",
    "\n",
    "# Show the plot\n",
    "plt.show()"
   ]
  },
  {
   "cell_type": "code",
   "execution_count": null,
   "id": "d7facbc7-3ca1-496c-8a02-e967e4ade7aa",
   "metadata": {},
   "outputs": [],
   "source": [
    "# Set a larger figure size\n",
    "plt.figure(figsize=(7, 8))\n",
    "\n",
    "# Create a bar chart using seaborn with color encoding for 'Category2'\n",
    "sns.barplot(x='Cholesterol', y='Steps_Health', hue='Gender', data=df, palette='Set2')\n",
    "\n",
    "# Add labels and a title\n",
    "plt.xlabel('Steps_Health')\n",
    "plt.ylabel('Cholesterol')\n",
    "plt.title('Bar Chart of Steps_Health vs Cholesterol')\n",
    "\n",
    "# Show the plot\n",
    "plt.show()"
   ]
  },
  {
   "cell_type": "code",
   "execution_count": null,
   "id": "3d89626b-0038-4c41-b008-c5db798de221",
   "metadata": {},
   "outputs": [],
   "source": [
    "# Set a larger figure size\n",
    "plt.figure(figsize=(7, 8))\n",
    "\n",
    "# Create a bar chart using seaborn with color encoding for 'Category2'\n",
    "sns.barplot(x='Cholesterol', y='Weight', hue='Gender', data=df, palette='Set2')\n",
    "\n",
    "# Add labels and a title\n",
    "plt.xlabel('Weight')\n",
    "plt.ylabel('Cholesterol')\n",
    "plt.title('Bar Chart of Weight vs Cholesterol')\n",
    "\n",
    "# Show the plot\n",
    "plt.show()"
   ]
  },
  {
   "cell_type": "code",
   "execution_count": null,
   "id": "3544e335-1e36-4434-9995-812abda05997",
   "metadata": {},
   "outputs": [],
   "source": [
    "# Set a larger figure size\n",
    "plt.figure(figsize=(7, 8))\n",
    "\n",
    "# Create a bar chart using seaborn with color encoding for 'Category2'\n",
    "sns.barplot(x='Cholesterol', y='Exercise', hue='Gender', data=df, palette='Set2')\n",
    "\n",
    "# Add labels and a title\n",
    "plt.xlabel('Exercise')\n",
    "plt.ylabel('Cholesterol')\n",
    "plt.title('Bar Chart of Exercise vs Cholesterol')\n",
    "\n",
    "# Show the plot\n",
    "plt.show()"
   ]
  },
  {
   "cell_type": "code",
   "execution_count": 11,
   "id": "3ea90a2d-ed78-4ef6-9c31-2af3710d513b",
   "metadata": {},
   "outputs": [],
   "source": [
    "#!pip install scikit-learn"
   ]
  },
  {
   "cell_type": "code",
   "execution_count": 12,
   "id": "000e7135-b0c8-4cb4-9990-b28baa446831",
   "metadata": {},
   "outputs": [],
   "source": [
    "#from sklearn.linear_model import LinearRegression"
   ]
  },
  {
   "cell_type": "code",
   "execution_count": null,
   "id": "50811911-0ca4-4f1d-8e84-a418969c062f",
   "metadata": {},
   "outputs": [],
   "source": [
    "# Create a linear regression model\n",
    "model = LinearRegression()\n",
    "\n",
    "# Reshape X to a 2D array (required for scikit-learn)\n",
    "X = df['X'].values.reshape(-1, 1)\n",
    "\n",
    "# Fit the model\n",
    "model.fit(X, df['Y'])\n",
    "\n",
    "# Print the coefficients\n",
    "print('Intercept:', model.intercept_)\n",
    "print('Coefficient:', model.coef_[0])\n",
    "\n",
    "# Plot the regression line\n",
    "plt.scatter(df['X'], df['Y'], label='Data')\n",
    "plt.plot(df['X'], model.predict(X), color='red', label='Regression Line')\n",
    "plt.xlabel('X')\n",
    "plt.ylabel('Y')\n",
    "plt.title('Linear Regression Analysis')\n",
    "plt.legend()\n",
    "plt.show()"
   ]
  },
  {
   "cell_type": "code",
   "execution_count": null,
   "id": "4c51c4f1-027f-4de8-8cde-34367888202e",
   "metadata": {},
   "outputs": [],
   "source": []
  }
 ],
 "metadata": {
  "kernelspec": {
   "display_name": "Python 3 (ipykernel)",
   "language": "python",
   "name": "python3"
  },
  "language_info": {
   "codemirror_mode": {
    "name": "ipython",
    "version": 3
   },
   "file_extension": ".py",
   "mimetype": "text/x-python",
   "name": "python",
   "nbconvert_exporter": "python",
   "pygments_lexer": "ipython3",
   "version": "3.11.5"
  }
 },
 "nbformat": 4,
 "nbformat_minor": 5
}
